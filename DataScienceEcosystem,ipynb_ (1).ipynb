{
  "cells": [
    {
      "cell_type": "markdown",
      "metadata": {
        "id": "yGML5DPk10cA"
      },
      "source": [
        "## Exercise 2: Create markdown cell with title of the notebook\n",
        "\n",
        "# Data Science Tools and Ecosystem\n"
      ]
    },
    {
      "cell_type": "markdown",
      "metadata": {
        "id": "Hwz6okSj6F_Y"
      },
      "source": [
        "## Exercise 3 - Create a markdown cell for an introduction\n",
        "\n",
        "# In this notebook, Data Science Tools and Ecosystem are summarized.\n"
      ]
    },
    {
      "cell_type": "markdown",
      "metadata": {
        "id": "Fg7XyR7BNtbB"
      },
      "source": [
        "**Objectives:**\n",
        "\n",
        "- List popular languages for Data Science.\n",
        "- Create a Jupyter Notebook.\n",
        "- Insert code and markdown cells."
      ]
    },
    {
      "cell_type": "markdown",
      "metadata": {
        "id": "S_EYr7XV78I4"
      },
      "source": [
        "## Exercise 4 - Create a markdown cell to list data science languages\n",
        "\n",
        "Some of the popular languages that Data Scientists use are:\n",
        "\n",
        "1. Python\n",
        "2. R\n",
        "3. SQL\n",
        "4. Java\n",
        "5. Julia\n",
        "\n"
      ]
    },
    {
      "cell_type": "markdown",
      "metadata": {
        "id": "r-zjSJqJ9dam"
      },
      "source": [
        "## Exercise 5 - Create a markdown cell to list data science libraries\n",
        "\n",
        "Some of the commonly used libraries used by Data Scientists include:\n",
        "\n",
        "1. Pandas\n",
        "2. NumPy\n",
        "3. Matplotlib\n",
        "4. Seaborn\n",
        "5. Scikit-learn\n",
        "\n"
      ]
    },
    {
      "cell_type": "markdown",
      "metadata": {
        "id": "2T5KuRr8DyJe"
      },
      "source": [
        "## Exercise 6 - Create a markdown cell with a table of Data Science tools\n",
        "\n",
        "| Data Science Tools     |\n",
        "|------------------------|\n",
        "| Jupyter Notebook        |\n",
        "| RStudio                 |\n",
        "| Apache Spark            |\n",
        "\n"
      ]
    },
    {
      "cell_type": "markdown",
      "metadata": {
        "id": "vy4L5686GJoz"
      },
      "source": [
        "## Exercise 7 - Create a markdown cell introducing arithmetic expression examples\n",
        "\n",
        "### Below are a few examples of evaluating arithmetic expressions in Python"
      ]
    },
    {
      "cell_type": "markdown",
      "metadata": {
        "id": "PoRoAcPtKL3w"
      },
      "source": [
        "## Exercise 8 - Create a code cell to multiply and add numbers"
      ]
    },
    {
      "cell_type": "code",
      "execution_count": 4,
      "metadata": {
        "colab": {
          "base_uri": "https://localhost:8080/"
        },
        "id": "ccr60KBXKTDJ",
        "outputId": "25cf1aef-571a-4b5c-e5fa-1d25d37bebb9"
      },
      "outputs": [
        {
          "data": {
            "text/plain": [
              "17"
            ]
          },
          "execution_count": 4,
          "metadata": {},
          "output_type": "execute_result"
        }
      ],
      "source": [
        "#This a simple arithmetic expression to mutiply then add integers\n",
        "(3*4)+5"
      ]
    },
    {
      "cell_type": "markdown",
      "metadata": {
        "id": "uxtThHKDLsOR"
      },
      "source": [
        "## Exercise 9 - Create a code cell to convert minutes to hours\n",
        "\n"
      ]
    },
    {
      "cell_type": "code",
      "execution_count": 5,
      "metadata": {
        "colab": {
          "base_uri": "https://localhost:8080/"
        },
        "id": "1owlML6fL0IN",
        "outputId": "ce8fcf4a-d747-409c-db52-512126e3b084"
      },
      "outputs": [
        {
          "name": "stdout",
          "output_type": "stream",
          "text": [
            "200 minutos son 3.3333333333333335 horas.\n"
          ]
        }
      ],
      "source": [
        "# This will convert 200 minutes to hours by diving by 60\n",
        "minutos = 200  # Número de minutos a convertir\n",
        "horas = minutos / 60  # Conversión a horas\n",
        "print(f\"{minutos} minutos son {horas} horas.\")"
      ]
    },
    {
      "cell_type": "markdown",
      "metadata": {
        "id": "2_2RUEYdQuST"
      },
      "source": [
        "### Exercise 11 - Create a markdown cell to indicate the Author's name\n",
        "\n",
        "## Author\n",
        "\n",
        "Carolina Vega"
      ]
    },
    {
      "cell_type": "code",
      "execution_count": null,
      "metadata": {
        "id": "u7m2bhb9REo8"
      },
      "outputs": [],
      "source": []
    }
  ],
  "metadata": {
    "colab": {
      "provenance": []
    },
    "kernelspec": {
      "display_name": "Python 3",
      "name": "python3"
    },
    "language_info": {
      "name": "python"
    }
  },
  "nbformat": 4,
  "nbformat_minor": 0
}
